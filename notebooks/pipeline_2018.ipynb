{
 "cells": [
  {
   "cell_type": "markdown",
   "metadata": {},
   "source": [
    "# Pipeline 2018-2019\n",
    "Basado en `generacion_features`, esta notebook ejecuta un pipeline similar para generar los indicadores para una base nueva de 2018 y 2019."
   ]
  },
  {
   "cell_type": "code",
   "execution_count": 8,
   "metadata": {},
   "outputs": [],
   "source": [
    "import pandas as pd"
   ]
  },
  {
   "cell_type": "markdown",
   "metadata": {},
   "source": [
    "# 1. Preprocesamiento\n",
    "\n",
    "Antes de trabajar con las bases de datos, necesitamos llenar campos vacíos, transformar los tipos de datos, y reproyectar las tablas a un formato más eficiente.\n",
    "\n",
    "## 1.1 Procedimientos\n",
    "\n",
    "Utilizando `src/utils/clean_data.py` tenemos que trabajar las bases de datos de [contratos de Compranet](https://sites.google.com/site/cnetuc/descargas) para limpiarlas, mezclarlas, y guardarlas en formato parquet. Vas a necesitar también `Directorio de unidades compradoras` y `Códigos repetidos en la tabla de procedimientos` de [imco/IRC#datos-procesados](https://github.com/imco/IRC/#datos-procesados)."
   ]
  },
  {
   "cell_type": "code",
   "execution_count": 1,
   "metadata": {},
   "outputs": [],
   "source": [
    "from utils.clean_data import ensamblar_procedimientos"
   ]
  },
  {
   "cell_type": "code",
   "execution_count": 2,
   "metadata": {},
   "outputs": [],
   "source": [
    "base_path = '../data/bases'\n",
    "years = [2018, 2019]\n",
    "files = [\n",
    "    'Contratos2018.xlsx',\n",
    "    'Contratos2019_200525070452.xlsx'\n",
    "]"
   ]
  },
  {
   "cell_type": "code",
   "execution_count": 3,
   "metadata": {},
   "outputs": [
    {
     "name": "stdout",
     "output_type": "stream",
     "text": [
      "(383903, 53)\n",
      "(383903, 46)\n",
      "CPU times: user 8.54 s, sys: 1.59 s, total: 10.1 s\n",
      "Wall time: 2min 7s\n"
     ]
    }
   ],
   "source": [
    "%%time\n",
    "procs = ensamblar_procedimientos(files, years, base_path)"
   ]
  },
  {
   "cell_type": "code",
   "execution_count": 60,
   "metadata": {},
   "outputs": [
    {
     "data": {
      "text/plain": [
       "FECHA_ARCHIVO\n",
       "2018    194191\n",
       "2019    189654\n",
       "dtype: int64"
      ]
     },
     "execution_count": 60,
     "metadata": {},
     "output_type": "execute_result"
    }
   ],
   "source": [
    "procs.groupby('FECHA_ARCHIVO').size()"
   ]
  },
  {
   "cell_type": "code",
   "execution_count": 61,
   "metadata": {},
   "outputs": [
    {
     "name": "stdout",
     "output_type": "stream",
     "text": [
      "CPU times: user 8.91 s, sys: 369 ms, total: 9.28 s\n",
      "Wall time: 9.3 s\n"
     ]
    }
   ],
   "source": [
    "%%time\n",
    "procs.to_csv(f'{base_path}/procedimientos-v2018.psv', sep='|', encoding='utf-8', index=False, quoting=1)\n",
    "procs.to_parquet(f'{base_path}/procedimientos-v2018.parquet', engine='pyarrow')"
   ]
  },
  {
   "cell_type": "code",
   "execution_count": 70,
   "metadata": {},
   "outputs": [
    {
     "name": "stdout",
     "output_type": "stream",
     "text": [
      " 55M Jun  1 20:18 ../data/bases/procedimientos-v2018.parquet\r\n",
      "309M Jun  1 20:18 ../data/bases/procedimientos-v2018.psv\r\n"
     ]
    }
   ],
   "source": [
    "!ls -lh ../data/bases/*v2018* | cut -d' ' -f5-"
   ]
  },
  {
   "cell_type": "markdown",
   "metadata": {},
   "source": [
    "# 2. Cargar bases"
   ]
  },
  {
   "cell_type": "code",
   "execution_count": 13,
   "metadata": {},
   "outputs": [
    {
     "data": {
      "text/html": [
       "<div>\n",
       "<style scoped>\n",
       "    .dataframe tbody tr th:only-of-type {\n",
       "        vertical-align: middle;\n",
       "    }\n",
       "\n",
       "    .dataframe tbody tr th {\n",
       "        vertical-align: top;\n",
       "    }\n",
       "\n",
       "    .dataframe thead th {\n",
       "        text-align: right;\n",
       "    }\n",
       "</style>\n",
       "<table border=\"1\" class=\"dataframe\">\n",
       "  <thead>\n",
       "    <tr style=\"text-align: right;\">\n",
       "      <th></th>\n",
       "      <th>GOBIERNO</th>\n",
       "      <th>DEPENDENCIA</th>\n",
       "      <th>SIGLAS</th>\n",
       "      <th>NOMBRE_DE_LA_UC</th>\n",
       "      <th>CLAVEUC</th>\n",
       "      <th>RESPONSABLE</th>\n",
       "      <th>ESTRATIFICACION_MUC</th>\n",
       "      <th>FOLIO_RUPC</th>\n",
       "      <th>PROVEEDOR_CONTRATISTA</th>\n",
       "      <th>ESTATUS_EMPRESA</th>\n",
       "      <th>...</th>\n",
       "      <th>CLAVE_PROGRAMA</th>\n",
       "      <th>CUENTA_ADMINISTRADA_POR</th>\n",
       "      <th>ANUNCIO</th>\n",
       "      <th>ARCHIVADO</th>\n",
       "      <th>SIGLAS_PAIS</th>\n",
       "      <th>RAMO</th>\n",
       "      <th>ORGANISMO</th>\n",
       "      <th>C_EXTERNO</th>\n",
       "      <th>FECHA_ARCHIVO</th>\n",
       "      <th>IMPORTE_PESOS</th>\n",
       "    </tr>\n",
       "  </thead>\n",
       "  <tbody>\n",
       "    <tr>\n",
       "      <th>0</th>\n",
       "      <td>APF</td>\n",
       "      <td>CENTRO NACIONAL DE CONTROL DEL GAS NATURAL</td>\n",
       "      <td>CENAGAS</td>\n",
       "      <td>CENAGAS-UNIDAD DE FINANZAS Y ADMINISTRACION DI...</td>\n",
       "      <td>018TON999</td>\n",
       "      <td>ADRIAN MERCADO ZEPEDA</td>\n",
       "      <td>NO MIPYME</td>\n",
       "      <td>367</td>\n",
       "      <td>EMERSON PROCESS MANAGEMENT</td>\n",
       "      <td>N/A</td>\n",
       "      <td>...</td>\n",
       "      <td>None</td>\n",
       "      <td>N/A</td>\n",
       "      <td>https://compranet.hacienda.gob.mx/esop/guest/g...</td>\n",
       "      <td>-1</td>\n",
       "      <td>MX</td>\n",
       "      <td></td>\n",
       "      <td>None</td>\n",
       "      <td>None</td>\n",
       "      <td>2018</td>\n",
       "      <td>101629.0</td>\n",
       "    </tr>\n",
       "    <tr>\n",
       "      <th>1</th>\n",
       "      <td>APF</td>\n",
       "      <td>FONATUR MANTENIMIENTO TURISTICO SA DE CV</td>\n",
       "      <td>FONATUR MANTENIMIENTO</td>\n",
       "      <td>FONATUR MANTENIMIENTO-GERENCIA CENTRAL SUBDIRE...</td>\n",
       "      <td>021W3S002</td>\n",
       "      <td>FERNANDO PORFIRIO LORENZO VAZQUEZ</td>\n",
       "      <td>NO MIPYME</td>\n",
       "      <td>367</td>\n",
       "      <td>EMERSON PROCESS MANAGEMENT</td>\n",
       "      <td>N/A</td>\n",
       "      <td>...</td>\n",
       "      <td>None</td>\n",
       "      <td>N/A</td>\n",
       "      <td>https://compranet.hacienda.gob.mx/esop/guest/g...</td>\n",
       "      <td>-1</td>\n",
       "      <td>MX</td>\n",
       "      <td></td>\n",
       "      <td>None</td>\n",
       "      <td>None</td>\n",
       "      <td>2018</td>\n",
       "      <td>730996.8</td>\n",
       "    </tr>\n",
       "    <tr>\n",
       "      <th>2</th>\n",
       "      <td>APF</td>\n",
       "      <td>INSTITUTO DE SEGURIDAD Y SERVICIOS SOCIALES DE...</td>\n",
       "      <td>ISSSTE</td>\n",
       "      <td>ISSSTE-DELEGACION ESTATAL DEL ISSSTE EN BAJA C...</td>\n",
       "      <td>051GYN052</td>\n",
       "      <td>REYNALDO PERAZA PERAZA</td>\n",
       "      <td>PEQUENA</td>\n",
       "      <td>485074</td>\n",
       "      <td>LUIS ERNESTO MEZA FLORES</td>\n",
       "      <td>N/A</td>\n",
       "      <td>...</td>\n",
       "      <td>None</td>\n",
       "      <td>N/A</td>\n",
       "      <td>https://compranet.hacienda.gob.mx/esop/guest/g...</td>\n",
       "      <td>-1</td>\n",
       "      <td>MX</td>\n",
       "      <td></td>\n",
       "      <td>None</td>\n",
       "      <td>None</td>\n",
       "      <td>2018</td>\n",
       "      <td>272000.0</td>\n",
       "    </tr>\n",
       "    <tr>\n",
       "      <th>3</th>\n",
       "      <td>APF</td>\n",
       "      <td>INSTITUTO DE SEGURIDAD Y SERVICIOS SOCIALES DE...</td>\n",
       "      <td>ISSSTE</td>\n",
       "      <td>ISSSTE-DELEGACION ESTATAL DEL ISSSTE EN BAJA C...</td>\n",
       "      <td>051GYN052</td>\n",
       "      <td>REYNALDO PERAZA PERAZA</td>\n",
       "      <td>PEQUENA</td>\n",
       "      <td>485074</td>\n",
       "      <td>LUIS ERNESTO MEZA FLORES</td>\n",
       "      <td>N/A</td>\n",
       "      <td>...</td>\n",
       "      <td>None</td>\n",
       "      <td>N/A</td>\n",
       "      <td>https://compranet.hacienda.gob.mx/esop/guest/g...</td>\n",
       "      <td>-1</td>\n",
       "      <td>MX</td>\n",
       "      <td></td>\n",
       "      <td>None</td>\n",
       "      <td>None</td>\n",
       "      <td>2018</td>\n",
       "      <td>269000.0</td>\n",
       "    </tr>\n",
       "    <tr>\n",
       "      <th>4</th>\n",
       "      <td>APF</td>\n",
       "      <td>INSTITUTO DE SEGURIDAD Y SERVICIOS SOCIALES DE...</td>\n",
       "      <td>ISSSTE</td>\n",
       "      <td>ISSSTE-JEFATURA DE SERVICIOS DE ADQUISICION DE...</td>\n",
       "      <td>051GYN007</td>\n",
       "      <td>ANTONIO RAMIREZ GUTIERREZ</td>\n",
       "      <td>NO MIPYME</td>\n",
       "      <td>None</td>\n",
       "      <td>LABORATORIOS DE BIOLOGICOS Y REACTIVOS DE MEXICO</td>\n",
       "      <td>N/A</td>\n",
       "      <td>...</td>\n",
       "      <td>None</td>\n",
       "      <td>N/A</td>\n",
       "      <td>https://compranet.hacienda.gob.mx/esop/guest/g...</td>\n",
       "      <td>-1</td>\n",
       "      <td>MX</td>\n",
       "      <td></td>\n",
       "      <td>None</td>\n",
       "      <td>None</td>\n",
       "      <td>2018</td>\n",
       "      <td>64940400.0</td>\n",
       "    </tr>\n",
       "  </tbody>\n",
       "</table>\n",
       "<p>5 rows × 46 columns</p>\n",
       "</div>"
      ],
      "text/plain": [
       "  GOBIERNO                                        DEPENDENCIA  \\\n",
       "0      APF         CENTRO NACIONAL DE CONTROL DEL GAS NATURAL   \n",
       "1      APF           FONATUR MANTENIMIENTO TURISTICO SA DE CV   \n",
       "2      APF  INSTITUTO DE SEGURIDAD Y SERVICIOS SOCIALES DE...   \n",
       "3      APF  INSTITUTO DE SEGURIDAD Y SERVICIOS SOCIALES DE...   \n",
       "4      APF  INSTITUTO DE SEGURIDAD Y SERVICIOS SOCIALES DE...   \n",
       "\n",
       "                  SIGLAS                                    NOMBRE_DE_LA_UC  \\\n",
       "0                CENAGAS  CENAGAS-UNIDAD DE FINANZAS Y ADMINISTRACION DI...   \n",
       "1  FONATUR MANTENIMIENTO  FONATUR MANTENIMIENTO-GERENCIA CENTRAL SUBDIRE...   \n",
       "2                 ISSSTE  ISSSTE-DELEGACION ESTATAL DEL ISSSTE EN BAJA C...   \n",
       "3                 ISSSTE  ISSSTE-DELEGACION ESTATAL DEL ISSSTE EN BAJA C...   \n",
       "4                 ISSSTE  ISSSTE-JEFATURA DE SERVICIOS DE ADQUISICION DE...   \n",
       "\n",
       "     CLAVEUC                        RESPONSABLE ESTRATIFICACION_MUC  \\\n",
       "0  018TON999              ADRIAN MERCADO ZEPEDA           NO MIPYME   \n",
       "1  021W3S002  FERNANDO PORFIRIO LORENZO VAZQUEZ           NO MIPYME   \n",
       "2  051GYN052             REYNALDO PERAZA PERAZA             PEQUENA   \n",
       "3  051GYN052             REYNALDO PERAZA PERAZA             PEQUENA   \n",
       "4  051GYN007          ANTONIO RAMIREZ GUTIERREZ           NO MIPYME   \n",
       "\n",
       "  FOLIO_RUPC                             PROVEEDOR_CONTRATISTA  \\\n",
       "0        367                        EMERSON PROCESS MANAGEMENT   \n",
       "1        367                        EMERSON PROCESS MANAGEMENT   \n",
       "2     485074                          LUIS ERNESTO MEZA FLORES   \n",
       "3     485074                          LUIS ERNESTO MEZA FLORES   \n",
       "4       None  LABORATORIOS DE BIOLOGICOS Y REACTIVOS DE MEXICO   \n",
       "\n",
       "  ESTATUS_EMPRESA  ... CLAVE_PROGRAMA  CUENTA_ADMINISTRADA_POR  \\\n",
       "0             N/A  ...           None                      N/A   \n",
       "1             N/A  ...           None                      N/A   \n",
       "2             N/A  ...           None                      N/A   \n",
       "3             N/A  ...           None                      N/A   \n",
       "4             N/A  ...           None                      N/A   \n",
       "\n",
       "                                             ANUNCIO ARCHIVADO SIGLAS_PAIS  \\\n",
       "0  https://compranet.hacienda.gob.mx/esop/guest/g...        -1          MX   \n",
       "1  https://compranet.hacienda.gob.mx/esop/guest/g...        -1          MX   \n",
       "2  https://compranet.hacienda.gob.mx/esop/guest/g...        -1          MX   \n",
       "3  https://compranet.hacienda.gob.mx/esop/guest/g...        -1          MX   \n",
       "4  https://compranet.hacienda.gob.mx/esop/guest/g...        -1          MX   \n",
       "\n",
       "  RAMO ORGANISMO C_EXTERNO FECHA_ARCHIVO IMPORTE_PESOS  \n",
       "0           None      None          2018      101629.0  \n",
       "1           None      None          2018      730996.8  \n",
       "2           None      None          2018      272000.0  \n",
       "3           None      None          2018      269000.0  \n",
       "4           None      None          2018    64940400.0  \n",
       "\n",
       "[5 rows x 46 columns]"
      ]
     },
     "execution_count": 13,
     "metadata": {},
     "output_type": "execute_result"
    }
   ],
   "source": [
    "df_procs = pd.read_parquet(f'{base_path}/procedimientos-v2018.parquet', engine='pyarrow')\n",
    "df_procs.head()"
   ]
  }
 ],
 "metadata": {
  "kernelspec": {
   "display_name": "Python 3",
   "language": "python",
   "name": "python3"
  },
  "language_info": {
   "codemirror_mode": {
    "name": "ipython",
    "version": 3
   },
   "file_extension": ".py",
   "mimetype": "text/x-python",
   "name": "python",
   "nbconvert_exporter": "python",
   "pygments_lexer": "ipython3",
   "version": "3.6.10"
  }
 },
 "nbformat": 4,
 "nbformat_minor": 4
}
